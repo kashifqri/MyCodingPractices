{
 "cells": [
  {
   "cell_type": "code",
   "execution_count": 5,
   "id": "53ee1c91-e0b7-4e0f-aae2-54e6856e59e9",
   "metadata": {},
   "outputs": [],
   "source": [
    "import pandas as pd\n",
    "import seaborn as sns\n",
    "import matplotlib.pyplot as plt \n",
    "from sklearn.preprocessing import StandardScaler\n",
    "from sklearn.model_selection import train_test_split"
   ]
  },
  {
   "cell_type": "code",
   "execution_count": 6,
   "id": "a4a2e76b-a11f-46ee-9158-388c4acef084",
   "metadata": {},
   "outputs": [
    {
     "data": {
      "text/html": [
       "<div>\n",
       "<style scoped>\n",
       "    .dataframe tbody tr th:only-of-type {\n",
       "        vertical-align: middle;\n",
       "    }\n",
       "\n",
       "    .dataframe tbody tr th {\n",
       "        vertical-align: top;\n",
       "    }\n",
       "\n",
       "    .dataframe thead th {\n",
       "        text-align: right;\n",
       "    }\n",
       "</style>\n",
       "<table border=\"1\" class=\"dataframe\">\n",
       "  <thead>\n",
       "    <tr style=\"text-align: right;\">\n",
       "      <th></th>\n",
       "      <th>YearsExperience</th>\n",
       "      <th>Salary</th>\n",
       "    </tr>\n",
       "  </thead>\n",
       "  <tbody>\n",
       "    <tr>\n",
       "      <th>0</th>\n",
       "      <td>1.1</td>\n",
       "      <td>39343</td>\n",
       "    </tr>\n",
       "    <tr>\n",
       "      <th>1</th>\n",
       "      <td>1.3</td>\n",
       "      <td>46205</td>\n",
       "    </tr>\n",
       "    <tr>\n",
       "      <th>2</th>\n",
       "      <td>1.5</td>\n",
       "      <td>37731</td>\n",
       "    </tr>\n",
       "    <tr>\n",
       "      <th>3</th>\n",
       "      <td>2.0</td>\n",
       "      <td>43525</td>\n",
       "    </tr>\n",
       "    <tr>\n",
       "      <th>4</th>\n",
       "      <td>2.2</td>\n",
       "      <td>39891</td>\n",
       "    </tr>\n",
       "    <tr>\n",
       "      <th>5</th>\n",
       "      <td>2.9</td>\n",
       "      <td>56642</td>\n",
       "    </tr>\n",
       "    <tr>\n",
       "      <th>6</th>\n",
       "      <td>3.0</td>\n",
       "      <td>60150</td>\n",
       "    </tr>\n",
       "    <tr>\n",
       "      <th>7</th>\n",
       "      <td>3.2</td>\n",
       "      <td>54445</td>\n",
       "    </tr>\n",
       "    <tr>\n",
       "      <th>8</th>\n",
       "      <td>3.2</td>\n",
       "      <td>64445</td>\n",
       "    </tr>\n",
       "    <tr>\n",
       "      <th>9</th>\n",
       "      <td>3.7</td>\n",
       "      <td>57189</td>\n",
       "    </tr>\n",
       "    <tr>\n",
       "      <th>10</th>\n",
       "      <td>3.9</td>\n",
       "      <td>63218</td>\n",
       "    </tr>\n",
       "    <tr>\n",
       "      <th>11</th>\n",
       "      <td>4.0</td>\n",
       "      <td>55794</td>\n",
       "    </tr>\n",
       "    <tr>\n",
       "      <th>12</th>\n",
       "      <td>4.0</td>\n",
       "      <td>56957</td>\n",
       "    </tr>\n",
       "    <tr>\n",
       "      <th>13</th>\n",
       "      <td>4.1</td>\n",
       "      <td>57081</td>\n",
       "    </tr>\n",
       "    <tr>\n",
       "      <th>14</th>\n",
       "      <td>4.5</td>\n",
       "      <td>61111</td>\n",
       "    </tr>\n",
       "    <tr>\n",
       "      <th>15</th>\n",
       "      <td>4.9</td>\n",
       "      <td>67938</td>\n",
       "    </tr>\n",
       "    <tr>\n",
       "      <th>16</th>\n",
       "      <td>5.1</td>\n",
       "      <td>66029</td>\n",
       "    </tr>\n",
       "    <tr>\n",
       "      <th>17</th>\n",
       "      <td>5.3</td>\n",
       "      <td>83088</td>\n",
       "    </tr>\n",
       "    <tr>\n",
       "      <th>18</th>\n",
       "      <td>5.9</td>\n",
       "      <td>81363</td>\n",
       "    </tr>\n",
       "    <tr>\n",
       "      <th>19</th>\n",
       "      <td>6.0</td>\n",
       "      <td>93940</td>\n",
       "    </tr>\n",
       "    <tr>\n",
       "      <th>20</th>\n",
       "      <td>6.8</td>\n",
       "      <td>91738</td>\n",
       "    </tr>\n",
       "    <tr>\n",
       "      <th>21</th>\n",
       "      <td>7.1</td>\n",
       "      <td>98273</td>\n",
       "    </tr>\n",
       "    <tr>\n",
       "      <th>22</th>\n",
       "      <td>7.9</td>\n",
       "      <td>101302</td>\n",
       "    </tr>\n",
       "    <tr>\n",
       "      <th>23</th>\n",
       "      <td>8.2</td>\n",
       "      <td>113812</td>\n",
       "    </tr>\n",
       "    <tr>\n",
       "      <th>24</th>\n",
       "      <td>8.7</td>\n",
       "      <td>109431</td>\n",
       "    </tr>\n",
       "    <tr>\n",
       "      <th>25</th>\n",
       "      <td>9.0</td>\n",
       "      <td>105582</td>\n",
       "    </tr>\n",
       "    <tr>\n",
       "      <th>26</th>\n",
       "      <td>9.5</td>\n",
       "      <td>116969</td>\n",
       "    </tr>\n",
       "    <tr>\n",
       "      <th>27</th>\n",
       "      <td>9.6</td>\n",
       "      <td>112635</td>\n",
       "    </tr>\n",
       "    <tr>\n",
       "      <th>28</th>\n",
       "      <td>10.3</td>\n",
       "      <td>122391</td>\n",
       "    </tr>\n",
       "    <tr>\n",
       "      <th>29</th>\n",
       "      <td>10.5</td>\n",
       "      <td>121872</td>\n",
       "    </tr>\n",
       "  </tbody>\n",
       "</table>\n",
       "</div>"
      ],
      "text/plain": [
       "    YearsExperience  Salary\n",
       "0               1.1   39343\n",
       "1               1.3   46205\n",
       "2               1.5   37731\n",
       "3               2.0   43525\n",
       "4               2.2   39891\n",
       "5               2.9   56642\n",
       "6               3.0   60150\n",
       "7               3.2   54445\n",
       "8               3.2   64445\n",
       "9               3.7   57189\n",
       "10              3.9   63218\n",
       "11              4.0   55794\n",
       "12              4.0   56957\n",
       "13              4.1   57081\n",
       "14              4.5   61111\n",
       "15              4.9   67938\n",
       "16              5.1   66029\n",
       "17              5.3   83088\n",
       "18              5.9   81363\n",
       "19              6.0   93940\n",
       "20              6.8   91738\n",
       "21              7.1   98273\n",
       "22              7.9  101302\n",
       "23              8.2  113812\n",
       "24              8.7  109431\n",
       "25              9.0  105582\n",
       "26              9.5  116969\n",
       "27              9.6  112635\n",
       "28             10.3  122391\n",
       "29             10.5  121872"
      ]
     },
     "execution_count": 6,
     "metadata": {},
     "output_type": "execute_result"
    }
   ],
   "source": [
    "datasets=pd.read_csv(\"C://Users//basit//Downloads/salary_data.csv\")\n",
    "datasets"
   ]
  },
  {
   "cell_type": "code",
   "execution_count": 7,
   "id": "11177064-643e-4f4b-8a13-24847a072a91",
   "metadata": {},
   "outputs": [
    {
     "data": {
      "text/plain": [
       "<function matplotlib.pyplot.show(close=None, block=None)>"
      ]
     },
     "execution_count": 7,
     "metadata": {},
     "output_type": "execute_result"
    },
    {
     "data": {
      "image/png": "[encoded data removed]",
      "text/plain": [
       "<Figure size 500x500 with 6 Axes>"
      ]
     },
     "metadata": {},
     "output_type": "display_data"
    }
   ],
   "source": [
    "sns.pairplot(data=datasets)\n",
    "plt.show"
   ]
  },
  {
   "cell_type": "code",
   "execution_count": 8,
   "id": "d187f01e-08d0-41c7-92be-9ca711a34ee0",
   "metadata": {},
   "outputs": [],
   "source": [
    "x=datasets[[\"YearsExperience\"]]\n",
    "y=datasets[\"Salary\"]"
   ]
  },
  {
   "cell_type": "code",
   "execution_count": 33,
   "id": "72d9ec29-f80d-4bf6-951a-192e37eb1a94",
   "metadata": {},
   "outputs": [],
   "source": [
    "from sklearn.linear_model import LinearRegression"
   ]
  },
  {
   "cell_type": "code",
   "execution_count": 34,
   "id": "1bd5ac8a-07fc-40af-875c-48c528463016",
   "metadata": {},
   "outputs": [],
   "source": [
    "from sklearn.model_selection import cross_val_score"
   ]
  },
  {
   "cell_type": "code",
   "execution_count": 45,
   "id": "f00dae1c-214d-4805-a61f-8b8257aaf6b4",
   "metadata": {},
   "outputs": [],
   "source": [
    "p=cross_val_score(LinearRegression(),x,y,cv=KFold(n_splits=8))"
   ]
  },
  {
   "cell_type": "code",
   "execution_count": 43,
   "id": "4949e331-a250-4997-8fdd-378d13ad0705",
   "metadata": {},
   "outputs": [],
   "source": [
    "p.sort()"
   ]
  },
  {
   "cell_type": "code",
   "execution_count": 46,
   "id": "cd8b8d3b-2795-4138-8ec6-5e92753980ac",
   "metadata": {},
   "outputs": [
    {
     "data": {
      "text/plain": [
       "array([-1.48993758,  0.59944883, -1.61034676, -1.90082568,  0.35244229,\n",
       "        0.21665151,  0.50228513,  0.00675258])"
      ]
     },
     "execution_count": 46,
     "metadata": {},
     "output_type": "execute_result"
    }
   ],
   "source": [
    "p"
   ]
  },
  {
   "cell_type": "code",
   "execution_count": null,
   "id": "3eef98b1-88af-41c8-82a5-977e050b26d8",
   "metadata": {},
   "outputs": [],
   "source": []
  },
  {
   "cell_type": "code",
   "execution_count": 26,
   "id": "dd025b14-0aed-44b2-8758-b5d498f34b97",
   "metadata": {},
   "outputs": [],
   "source": [
    "new_data=datasets.head(10)"
   ]
  },
  {
   "cell_type": "code",
   "execution_count": 27,
   "id": "b7c03d62-de34-456e-a409-5dd044e1ff95",
   "metadata": {},
   "outputs": [],
   "source": [
    "x_new=new_data[[\"YearsExperience\"]]\n",
    "y_new= new_data[\"Salary\"]"
   ]
  },
  {
   "cell_type": "code",
   "execution_count": 15,
   "id": "d8c4974a-a1a7-46a7-b7c1-27fd5a0e2732",
   "metadata": {},
   "outputs": [],
   "source": [
    "# x_train,x_test,y_train,y_test=train_test_split(x,y,test_size=0.2,random_state=42)"
   ]
  },
  {
   "cell_type": "code",
   "execution_count": 10,
   "id": "464d3391-7191-4e55-a4a2-039c7ffdbac0",
   "metadata": {},
   "outputs": [],
   "source": [
    "# from sklearn.tree import DecisionTreeRegressor,plot_tree"
   ]
  },
  {
   "cell_type": "code",
   "execution_count": 30,
   "id": "48d26685-445e-450b-9477-db5fb5578a7e",
   "metadata": {},
   "outputs": [],
   "source": [
    "# dt=DecisionTreeRegressor(criterion='poisson',max_depth=9,splitter=\"random\")\n",
    "from sklearn.model_selection import LeaveOneOut,LeavePOut,KFold,StratifiedKFold"
   ]
  },
  {
   "cell_type": "code",
   "execution_count": 31,
   "id": "2fd9f00f-7c69-457e-8375-5246684a110b",
   "metadata": {},
   "outputs": [
    {
     "name": "stdout",
     "output_type": "stream",
     "text": [
      "[2 3 4 5 6 7 8 9] [0 1]\n",
      "[1 3 4 5 6 7 8 9] [0 2]\n",
      "[1 2 4 5 6 7 8 9] [0 3]\n",
      "[1 2 3 5 6 7 8 9] [0 4]\n",
      "[1 2 3 4 6 7 8 9] [0 5]\n",
      "[1 2 3 4 5 7 8 9] [0 6]\n",
      "[1 2 3 4 5 6 8 9] [0 7]\n",
      "[1 2 3 4 5 6 7 9] [0 8]\n",
      "[1 2 3 4 5 6 7 8] [0 9]\n",
      "[0 3 4 5 6 7 8 9] [1 2]\n",
      "[0 2 4 5 6 7 8 9] [1 3]\n",
      "[0 2 3 5 6 7 8 9] [1 4]\n",
      "[0 2 3 4 6 7 8 9] [1 5]\n",
      "[0 2 3 4 5 7 8 9] [1 6]\n",
      "[0 2 3 4 5 6 8 9] [1 7]\n",
      "[0 2 3 4 5 6 7 9] [1 8]\n",
      "[0 2 3 4 5 6 7 8] [1 9]\n",
      "[0 1 4 5 6 7 8 9] [2 3]\n",
      "[0 1 3 5 6 7 8 9] [2 4]\n",
      "[0 1 3 4 6 7 8 9] [2 5]\n",
      "[0 1 3 4 5 7 8 9] [2 6]\n",
      "[0 1 3 4 5 6 8 9] [2 7]\n",
      "[0 1 3 4 5 6 7 9] [2 8]\n",
      "[0 1 3 4 5 6 7 8] [2 9]\n",
      "[0 1 2 5 6 7 8 9] [3 4]\n",
      "[0 1 2 4 6 7 8 9] [3 5]\n",
      "[0 1 2 4 5 7 8 9] [3 6]\n",
      "[0 1 2 4 5 6 8 9] [3 7]\n",
      "[0 1 2 4 5 6 7 9] [3 8]\n",
      "[0 1 2 4 5 6 7 8] [3 9]\n",
      "[0 1 2 3 6 7 8 9] [4 5]\n",
      "[0 1 2 3 5 7 8 9] [4 6]\n",
      "[0 1 2 3 5 6 8 9] [4 7]\n",
      "[0 1 2 3 5 6 7 9] [4 8]\n",
      "[0 1 2 3 5 6 7 8] [4 9]\n",
      "[0 1 2 3 4 7 8 9] [5 6]\n",
      "[0 1 2 3 4 6 8 9] [5 7]\n",
      "[0 1 2 3 4 6 7 9] [5 8]\n",
      "[0 1 2 3 4 6 7 8] [5 9]\n",
      "[0 1 2 3 4 5 8 9] [6 7]\n",
      "[0 1 2 3 4 5 7 9] [6 8]\n",
      "[0 1 2 3 4 5 7 8] [6 9]\n",
      "[0 1 2 3 4 5 6 9] [7 8]\n",
      "[0 1 2 3 4 5 6 8] [7 9]\n",
      "[0 1 2 3 4 5 6 7] [8 9]\n"
     ]
    }
   ],
   "source": [
    "#dt.fit(x_train,y_train)\n",
    "lo=LeavePOut(p=2)\n",
    "for train , test in lo.split (x_new,y_new):\n",
    "    print(train,test)"
   ]
  },
  {
   "cell_type": "code",
   "execution_count": null,
   "id": "c8f6eeaf-e28d-4c48-b625-ea31327c6696",
   "metadata": {},
   "outputs": [],
   "source": [
    "dt.score(x_test,y_test)"
   ]
  },
  {
   "cell_type": "code",
   "execution_count": null,
   "id": "d08b3e1e-84e7-44e9-bc97-761c98571bfb",
   "metadata": {},
   "outputs": [],
   "source": [
    "dt.score(x_train,y_train)"
   ]
  },
  {
   "cell_type": "code",
   "execution_count": null,
   "id": "f972d793-56ac-41a7-a494-54c3ed1b80b2",
   "metadata": {},
   "outputs": [],
   "source": [
    "#plot_tree(dt)\n",
    "#plt.show"
   ]
  },
  {
   "cell_type": "code",
   "execution_count": null,
   "id": "ae110f00-98ff-4b26-ad37-345d29fdd8a2",
   "metadata": {},
   "outputs": [],
   "source": [
    "#for i in range(1,30) :\n",
    "#    dt1 = DecisionTreeRegressor(max_depth=i)\n",
    "#    dt1.fit(x_train, y_train)\n",
    "#    print(i, dt1.score(x_train, y_train)*100, dt1.score(x_test, y_test)*100)"
   ]
  },
  {
   "cell_type": "code",
   "execution_count": null,
   "id": "f3627036-9dd0-4335-b708-1c4aea4955bb",
   "metadata": {},
   "outputs": [],
   "source": [
    "from sklearn.model_selection import GridSearchCV,RandomizedSearchCV"
   ]
  },
  {
   "cell_type": "code",
   "execution_count": null,
   "id": "049ad227-bed6-45a2-ae0b-549d9c044de1",
   "metadata": {},
   "outputs": [],
   "source": [
    "df = {\"criterion\": [\"squared_error\", \"friedman_mse\", \"absolute_error\", \"poisson\"], \n",
    "      \"splitter\": [\"best\", \"random\"], \n",
    "      \"max_depth\": [i for i in range(2, 20)]}"
   ]
  },
  {
   "cell_type": "code",
   "execution_count": null,
   "id": "a98c7796-6937-4385-9f7e-a765ae0b7891",
   "metadata": {},
   "outputs": [],
   "source": [
    "gd=GridSearchCV(DecisionTreeRegressor(),param_grid=df)\n",
    "gd.fit(x_train,y_train)"
   ]
  },
  {
   "cell_type": "code",
   "execution_count": null,
   "id": "ac4ac1c8-edfa-437d-b405-97958d9d66e0",
   "metadata": {},
   "outputs": [],
   "source": [
    "gd.best_params_"
   ]
  },
  {
   "cell_type": "code",
   "execution_count": null,
   "id": "e7f4ec4b-c7a0-40f9-b35a-fb1874034b07",
   "metadata": {},
   "outputs": [],
   "source": [
    "gd.best_score_"
   ]
  },
  {
   "cell_type": "code",
   "execution_count": null,
   "id": "03a4315f-9a0c-4eda-95ef-4d4c46847942",
   "metadata": {},
   "outputs": [],
   "source": []
  }
 ],
 "metadata": {
  "kernelspec": {
   "display_name": "Python 3 (ipykernel)",
   "language": "python",
   "name": "python3"
  },
  "language_info": {
   "codemirror_mode": {
    "name": "ipython",
    "version": 3
   },
   "file_extension": ".py",
   "mimetype": "text/x-python",
   "name": "python",
   "nbconvert_exporter": "python",
   "pygments_lexer": "ipython3",
   "version": "3.13.1"
  }
 },
 "nbformat": 4,
 "nbformat_minor": 5
}
